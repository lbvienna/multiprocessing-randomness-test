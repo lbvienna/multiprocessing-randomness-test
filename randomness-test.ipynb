{
 "cells": [
  {
   "cell_type": "code",
   "execution_count": 44,
   "metadata": {},
   "outputs": [],
   "source": [
    "import numpy as np\n",
    "import scipy\n",
    "import scipy.stats\n",
    "\n",
    "import concurrent\n",
    "import multiprocessing"
   ]
  },
  {
   "cell_type": "code",
   "execution_count": 62,
   "metadata": {},
   "outputs": [],
   "source": [
    "# np.random.random() samples form a continuous uniform distribution between [0, 1)\n",
    "# https://docs.scipy.org/doc/numpy-1.14.0/reference/generated/numpy.random.random.html#numpy.random.random\n",
    "\n",
    "def generate_random():\n",
    "    return np.random.random()\n",
    "\n",
    "def generate_random_seed():\n",
    "    scipy.random.seed()\n",
    "    return np.random.random()"
   ]
  },
  {
   "cell_type": "code",
   "execution_count": 27,
   "metadata": {},
   "outputs": [],
   "source": [
    "def execute(exectutor, random_function, n_samples):\n",
    "    random_numbers = []\n",
    "    with exectutor(max_workers=multiprocessing.cpu_count()) as executor:\n",
    "            future_to_random = {executor.submit(random_function): b for b in range(n_samples)}\n",
    "            for future in concurrent.futures.as_completed(future_to_random):\n",
    "                b = future_to_random[future]\n",
    "                try:\n",
    "                    random_numbers.append(future.result())\n",
    "                except Exception as exc:\n",
    "                    print(f\"generated an exception: {exc}\")\n",
    "    return random_numbers"
   ]
  },
  {
   "cell_type": "code",
   "execution_count": 57,
   "metadata": {},
   "outputs": [],
   "source": [
    "# ks test tests goodness of fit to uniform distribution.\n",
    "# https://docs.scipy.org/doc/scipy-0.14.0/reference/generated/scipy.stats.kstest.html\n",
    "# Null hypothesis is that empirical distribution of x and 'uniform' equal\n",
    "def test_uniform(x):\n",
    "    return scipy.stats.kstest(x, 'uniform')"
   ]
  },
  {
   "cell_type": "code",
   "execution_count": 58,
   "metadata": {},
   "outputs": [],
   "source": [
    "n_samples = 10"
   ]
  },
  {
   "cell_type": "code",
   "execution_count": 59,
   "metadata": {},
   "outputs": [
    {
     "data": {
      "text/plain": [
       "[0.3531318913277083,\n",
       " 0.3531318913277083,\n",
       " 0.3531318913277083,\n",
       " 0.3531318913277083,\n",
       " 0.3531318913277083,\n",
       " 0.3531318913277083,\n",
       " 0.3531318913277083,\n",
       " 0.3531318913277083,\n",
       " 0.3531318913277083,\n",
       " 0.3531318913277083]"
      ]
     },
     "execution_count": 59,
     "metadata": {},
     "output_type": "execute_result"
    }
   ],
   "source": [
    "# ProcessPoolExecutor without seed\n",
    "execute(concurrent.futures.ProcessPoolExecutor, generate_random, n_samples)"
   ]
  },
  {
   "cell_type": "markdown",
   "metadata": {},
   "source": [
    "That doesn't look random to me. Let's use the KS test to check."
   ]
  },
  {
   "cell_type": "code",
   "execution_count": 61,
   "metadata": {},
   "outputs": [
    {
     "data": {
      "text/plain": [
       "7.0264984690686185e-12"
      ]
     },
     "execution_count": 61,
     "metadata": {},
     "output_type": "execute_result"
    }
   ],
   "source": [
    "x = execute(concurrent.futures.ProcessPoolExecutor, generate_random, 1000)\n",
    "test_uniform(x).pvalue"
   ]
  },
  {
   "cell_type": "markdown",
   "metadata": {},
   "source": [
    "Seems quite significant. We can reject the null. The two distributions are not the same with very high probability."
   ]
  },
  {
   "cell_type": "code",
   "execution_count": 30,
   "metadata": {},
   "outputs": [
    {
     "data": {
      "text/plain": [
       "[0.4022700186390239,\n",
       " 0.03626181650585103,\n",
       " 0.8421808068397407,\n",
       " 0.8373856895356356,\n",
       " 0.5731373725691851,\n",
       " 0.631598702196628,\n",
       " 0.6504276922773542,\n",
       " 0.5015282007961973,\n",
       " 0.21039857328688172,\n",
       " 0.581512328242947]"
      ]
     },
     "execution_count": 30,
     "metadata": {},
     "output_type": "execute_result"
    }
   ],
   "source": [
    "# Thread pool executor without seed\n",
    "execute(concurrent.futures.ThreadPoolExecutor, generate_random, n_samples)"
   ]
  },
  {
   "cell_type": "markdown",
   "metadata": {},
   "source": [
    "Looks better, let's make sure that it is."
   ]
  },
  {
   "cell_type": "code",
   "execution_count": 63,
   "metadata": {},
   "outputs": [
    {
     "data": {
      "text/plain": [
       "0.7443606847918853"
      ]
     },
     "execution_count": 63,
     "metadata": {},
     "output_type": "execute_result"
    }
   ],
   "source": [
    "x = execute(concurrent.futures.ThreadPoolExecutor, generate_random, 1000)\n",
    "test_uniform(x).pvalue"
   ]
  },
  {
   "cell_type": "markdown",
   "metadata": {},
   "source": [
    "Another approach is:"
   ]
  },
  {
   "cell_type": "code",
   "execution_count": 31,
   "metadata": {},
   "outputs": [
    {
     "data": {
      "text/plain": [
       "[0.15024702541952184,\n",
       " 0.663013373426398,\n",
       " 0.9071019315049326,\n",
       " 0.5581711681531546,\n",
       " 0.760395688185846,\n",
       " 0.12881868459866508,\n",
       " 0.6504844220709478,\n",
       " 0.025152605613995127,\n",
       " 0.5770563186769598,\n",
       " 0.09618697683998012]"
      ]
     },
     "execution_count": 31,
     "metadata": {},
     "output_type": "execute_result"
    }
   ],
   "source": [
    "# ProcessPoolExecutor with seed\n",
    "execute(concurrent.futures.ProcessPoolExecutor, generate_random_seed, n_samples)"
   ]
  },
  {
   "cell_type": "code",
   "execution_count": 64,
   "metadata": {},
   "outputs": [
    {
     "data": {
      "text/plain": [
       "0.6387485683349132"
      ]
     },
     "execution_count": 64,
     "metadata": {},
     "output_type": "execute_result"
    }
   ],
   "source": [
    "x = execute(concurrent.futures.ProcessPoolExecutor, generate_random_seed, 1000)\n",
    "test_uniform(x).pvalue"
   ]
  },
  {
   "cell_type": "code",
   "execution_count": null,
   "metadata": {},
   "outputs": [],
   "source": []
  }
 ],
 "metadata": {
  "kernelspec": {
   "display_name": "Python 3",
   "language": "python",
   "name": "python3"
  },
  "language_info": {
   "codemirror_mode": {
    "name": "ipython",
    "version": 3
   },
   "file_extension": ".py",
   "mimetype": "text/x-python",
   "name": "python",
   "nbconvert_exporter": "python",
   "pygments_lexer": "ipython3",
   "version": "3.7.6"
  }
 },
 "nbformat": 4,
 "nbformat_minor": 4
}
